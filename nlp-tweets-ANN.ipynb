{
 "cells": [
  {
   "cell_type": "markdown",
   "metadata": {
    "_cell_guid": "b1076dfc-b9ad-4769-8c92-a6c4dae69d19",
    "_uuid": "8f2839f25d086af736a60e9eeb907d3b93b6e0e5",
    "tags": []
   },
   "source": [
    "# NLP Tweets for Natural Disasters\n",
    "#### Github link: https://github.com/wiwi9262/tweet_distasters\n",
    "## Overview\n",
    "* We have a large corpus of tweets\n",
    "* We would like to know which of these tweets are related to natural disasters\n",
    "* There are thousands of unique words that we need to look at as part of our analysis\n",
    "* We plan to use term frequency inverse document frequency to build our initial features\n",
    "* This method is not perfect, but it provides more than a simple bag of words approach"
   ]
  },
  {
   "cell_type": "code",
   "execution_count": 46,
   "metadata": {},
   "outputs": [],
   "source": [
    "import numpy as np # linear algebra\n",
    "import pandas as pd # data processing, CSV file I/O (e.g. pd.read_csv)\n",
    "import os\n",
    "#import networkx as nx\n",
    "import matplotlib.pyplot as plt\n",
    "import seaborn as sns\n",
    "import tensorflow as tf\n",
    "from tensorflow import keras\n",
    "from tensorflow.keras import layers, models\n",
    "import nltk\n",
    "from nltk.corpus import stopwords\n",
    "#from nltk.classify import SklearnClassifier\n",
    "from sklearn.model_selection import train_test_split\n",
    "from sklearn.feature_extraction.text import TfidfVectorizer\n",
    "from sklearn.metrics.pairwise import cosine_similarity\n",
    "from sklearn.decomposition import PCA\n",
    "from keras.callbacks import EarlyStopping\n",
    "from sklearn.preprocessing import StandardScaler"
   ]
  },
  {
   "cell_type": "markdown",
   "metadata": {},
   "source": [
    "## Data Download and Cleaning"
   ]
  },
  {
   "cell_type": "code",
   "execution_count": 16,
   "metadata": {
    "tags": []
   },
   "outputs": [
    {
     "name": "stdout",
     "output_type": "stream",
     "text": [
      "[nltk_data] Downloading package stopwords to /usr/share/nltk_data...\n",
      "[nltk_data]   Package stopwords is already up-to-date!\n"
     ]
    },
    {
     "data": {
      "text/plain": [
       "True"
      ]
     },
     "execution_count": 16,
     "metadata": {},
     "output_type": "execute_result"
    }
   ],
   "source": [
    "# We need the stopwords lists so we can remove extremely common words that will not help our analysis\n",
    "nltk.download('stopwords')"
   ]
  },
  {
   "cell_type": "code",
   "execution_count": 17,
   "metadata": {
    "tags": []
   },
   "outputs": [],
   "source": [
    "dfTweets = pd.read_csv(\"../input/nlp-getting-started/train.csv\")\n",
    "dfTweetsTest = pd.read_csv(\"../input/nlp-getting-started/test.csv\")"
   ]
  },
  {
   "cell_type": "code",
   "execution_count": 18,
   "metadata": {
    "tags": []
   },
   "outputs": [
    {
     "data": {
      "text/html": [
       "<div>\n",
       "<style scoped>\n",
       "    .dataframe tbody tr th:only-of-type {\n",
       "        vertical-align: middle;\n",
       "    }\n",
       "\n",
       "    .dataframe tbody tr th {\n",
       "        vertical-align: top;\n",
       "    }\n",
       "\n",
       "    .dataframe thead th {\n",
       "        text-align: right;\n",
       "    }\n",
       "</style>\n",
       "<table border=\"1\" class=\"dataframe\">\n",
       "  <thead>\n",
       "    <tr style=\"text-align: right;\">\n",
       "      <th></th>\n",
       "      <th>id</th>\n",
       "      <th>keyword</th>\n",
       "      <th>location</th>\n",
       "      <th>text</th>\n",
       "      <th>target</th>\n",
       "    </tr>\n",
       "  </thead>\n",
       "  <tbody>\n",
       "    <tr>\n",
       "      <th>0</th>\n",
       "      <td>1</td>\n",
       "      <td>NaN</td>\n",
       "      <td>NaN</td>\n",
       "      <td>Our Deeds are the Reason of this #earthquake M...</td>\n",
       "      <td>1</td>\n",
       "    </tr>\n",
       "    <tr>\n",
       "      <th>1</th>\n",
       "      <td>4</td>\n",
       "      <td>NaN</td>\n",
       "      <td>NaN</td>\n",
       "      <td>Forest fire near La Ronge Sask. Canada</td>\n",
       "      <td>1</td>\n",
       "    </tr>\n",
       "    <tr>\n",
       "      <th>2</th>\n",
       "      <td>5</td>\n",
       "      <td>NaN</td>\n",
       "      <td>NaN</td>\n",
       "      <td>All residents asked to 'shelter in place' are ...</td>\n",
       "      <td>1</td>\n",
       "    </tr>\n",
       "    <tr>\n",
       "      <th>3</th>\n",
       "      <td>6</td>\n",
       "      <td>NaN</td>\n",
       "      <td>NaN</td>\n",
       "      <td>13,000 people receive #wildfires evacuation or...</td>\n",
       "      <td>1</td>\n",
       "    </tr>\n",
       "    <tr>\n",
       "      <th>4</th>\n",
       "      <td>7</td>\n",
       "      <td>NaN</td>\n",
       "      <td>NaN</td>\n",
       "      <td>Just got sent this photo from Ruby #Alaska as ...</td>\n",
       "      <td>1</td>\n",
       "    </tr>\n",
       "  </tbody>\n",
       "</table>\n",
       "</div>"
      ],
      "text/plain": [
       "   id keyword location                                               text  \\\n",
       "0   1     NaN      NaN  Our Deeds are the Reason of this #earthquake M...   \n",
       "1   4     NaN      NaN             Forest fire near La Ronge Sask. Canada   \n",
       "2   5     NaN      NaN  All residents asked to 'shelter in place' are ...   \n",
       "3   6     NaN      NaN  13,000 people receive #wildfires evacuation or...   \n",
       "4   7     NaN      NaN  Just got sent this photo from Ruby #Alaska as ...   \n",
       "\n",
       "   target  \n",
       "0       1  \n",
       "1       1  \n",
       "2       1  \n",
       "3       1  \n",
       "4       1  "
      ]
     },
     "execution_count": 18,
     "metadata": {},
     "output_type": "execute_result"
    }
   ],
   "source": [
    "# We see a lot of NaN in keyword and locatin\n",
    "# We will explore further but it is likely that we will not be able to use these\n",
    "dfTweets.head()"
   ]
  },
  {
   "cell_type": "code",
   "execution_count": 19,
   "metadata": {
    "tags": []
   },
   "outputs": [
    {
     "data": {
      "text/html": [
       "<div>\n",
       "<style scoped>\n",
       "    .dataframe tbody tr th:only-of-type {\n",
       "        vertical-align: middle;\n",
       "    }\n",
       "\n",
       "    .dataframe tbody tr th {\n",
       "        vertical-align: top;\n",
       "    }\n",
       "\n",
       "    .dataframe thead th {\n",
       "        text-align: right;\n",
       "    }\n",
       "</style>\n",
       "<table border=\"1\" class=\"dataframe\">\n",
       "  <thead>\n",
       "    <tr style=\"text-align: right;\">\n",
       "      <th></th>\n",
       "      <th>id</th>\n",
       "      <th>keyword</th>\n",
       "      <th>location</th>\n",
       "      <th>text</th>\n",
       "    </tr>\n",
       "  </thead>\n",
       "  <tbody>\n",
       "    <tr>\n",
       "      <th>0</th>\n",
       "      <td>0</td>\n",
       "      <td>NaN</td>\n",
       "      <td>NaN</td>\n",
       "      <td>Just happened a terrible car crash</td>\n",
       "    </tr>\n",
       "    <tr>\n",
       "      <th>1</th>\n",
       "      <td>2</td>\n",
       "      <td>NaN</td>\n",
       "      <td>NaN</td>\n",
       "      <td>Heard about #earthquake is different cities, s...</td>\n",
       "    </tr>\n",
       "    <tr>\n",
       "      <th>2</th>\n",
       "      <td>3</td>\n",
       "      <td>NaN</td>\n",
       "      <td>NaN</td>\n",
       "      <td>there is a forest fire at spot pond, geese are...</td>\n",
       "    </tr>\n",
       "    <tr>\n",
       "      <th>3</th>\n",
       "      <td>9</td>\n",
       "      <td>NaN</td>\n",
       "      <td>NaN</td>\n",
       "      <td>Apocalypse lighting. #Spokane #wildfires</td>\n",
       "    </tr>\n",
       "    <tr>\n",
       "      <th>4</th>\n",
       "      <td>11</td>\n",
       "      <td>NaN</td>\n",
       "      <td>NaN</td>\n",
       "      <td>Typhoon Soudelor kills 28 in China and Taiwan</td>\n",
       "    </tr>\n",
       "  </tbody>\n",
       "</table>\n",
       "</div>"
      ],
      "text/plain": [
       "   id keyword location                                               text\n",
       "0   0     NaN      NaN                 Just happened a terrible car crash\n",
       "1   2     NaN      NaN  Heard about #earthquake is different cities, s...\n",
       "2   3     NaN      NaN  there is a forest fire at spot pond, geese are...\n",
       "3   9     NaN      NaN           Apocalypse lighting. #Spokane #wildfires\n",
       "4  11     NaN      NaN      Typhoon Soudelor kills 28 in China and Taiwan"
      ]
     },
     "execution_count": 19,
     "metadata": {},
     "output_type": "execute_result"
    }
   ],
   "source": [
    "dfTweetsTest.head()"
   ]
  },
  {
   "cell_type": "code",
   "execution_count": 20,
   "metadata": {
    "tags": []
   },
   "outputs": [
    {
     "name": "stdout",
     "output_type": "stream",
     "text": [
      "<class 'pandas.core.frame.DataFrame'>\n",
      "RangeIndex: 7613 entries, 0 to 7612\n",
      "Data columns (total 5 columns):\n",
      " #   Column    Non-Null Count  Dtype \n",
      "---  ------    --------------  ----- \n",
      " 0   id        7613 non-null   int64 \n",
      " 1   keyword   7552 non-null   object\n",
      " 2   location  5080 non-null   object\n",
      " 3   text      7613 non-null   object\n",
      " 4   target    7613 non-null   int64 \n",
      "dtypes: int64(2), object(3)\n",
      "memory usage: 297.5+ KB\n"
     ]
    }
   ],
   "source": [
    "dfTweets.info()\n",
    "# We can see that there are more than 2000 null locations and about 60 null keywords\n",
    "# Probably too many null locations to be useful, unless the ones that are there are really impactful"
   ]
  },
  {
   "cell_type": "code",
   "execution_count": 21,
   "metadata": {
    "tags": []
   },
   "outputs": [
    {
     "name": "stdout",
     "output_type": "stream",
     "text": [
      "<class 'pandas.core.frame.DataFrame'>\n",
      "RangeIndex: 3263 entries, 0 to 3262\n",
      "Data columns (total 4 columns):\n",
      " #   Column    Non-Null Count  Dtype \n",
      "---  ------    --------------  ----- \n",
      " 0   id        3263 non-null   int64 \n",
      " 1   keyword   3237 non-null   object\n",
      " 2   location  2158 non-null   object\n",
      " 3   text      3263 non-null   object\n",
      "dtypes: int64(1), object(3)\n",
      "memory usage: 102.1+ KB\n"
     ]
    }
   ],
   "source": [
    "dfTweetsTest.info()"
   ]
  },
  {
   "cell_type": "code",
   "execution_count": 22,
   "metadata": {
    "tags": []
   },
   "outputs": [
    {
     "data": {
      "text/plain": [
       "fatalities               45\n",
       "deluge                   42\n",
       "armageddon               42\n",
       "sinking                  41\n",
       "damage                   41\n",
       "                         ..\n",
       "forest%20fire            19\n",
       "epicentre                12\n",
       "threat                   11\n",
       "inundation               10\n",
       "radiation%20emergency     9\n",
       "Name: keyword, Length: 221, dtype: int64"
      ]
     },
     "execution_count": 22,
     "metadata": {},
     "output_type": "execute_result"
    }
   ],
   "source": [
    "dfTweets['keyword'].value_counts()\n",
    "# There are 221 unique keywords"
   ]
  },
  {
   "cell_type": "code",
   "execution_count": 23,
   "metadata": {
    "tags": []
   },
   "outputs": [
    {
     "data": {
      "text/plain": [
       "USA                    104\n",
       "New York                71\n",
       "United States           50\n",
       "London                  45\n",
       "Canada                  29\n",
       "                      ... \n",
       "MontrÌ©al, QuÌ©bec       1\n",
       "Montreal                 1\n",
       "ÌÏT: 6.4682,3.18287      1\n",
       "Live4Heed??              1\n",
       "Lincoln                  1\n",
       "Name: location, Length: 3341, dtype: int64"
      ]
     },
     "execution_count": 23,
     "metadata": {},
     "output_type": "execute_result"
    }
   ],
   "source": [
    "dfTweets['location'].value_counts()\n",
    "# This is a mess. Just drop it"
   ]
  },
  {
   "cell_type": "code",
   "execution_count": 24,
   "metadata": {
    "tags": []
   },
   "outputs": [
    {
     "data": {
      "text/plain": [
       "0       Our Deeds are the Reason of this  earthquake M...\n",
       "1                  Forest fire near La Ronge Sask  Canada\n",
       "2       All residents asked to  shelter in place  are ...\n",
       "3              people receive  wildfires evacuation or...\n",
       "4       Just got sent this photo from Ruby  Alaska as ...\n",
       "                              ...                        \n",
       "7608    Two giant cranes holding a bridge collapse int...\n",
       "7609     aria ahrary  TheTawniest The out of control w...\n",
       "7610          M            UTC   km S of Volcano Hawaii  \n",
       "7611    Police investigating after an e bike collided ...\n",
       "7612    The Latest  More Homes Razed by Northern Calif...\n",
       "Name: text, Length: 7613, dtype: object"
      ]
     },
     "execution_count": 24,
     "metadata": {},
     "output_type": "execute_result"
    }
   ],
   "source": [
    "# Remove URLs\n",
    "dfTweets['text'] = dfTweets['text'].replace(r'http\\S+', '', regex=True)\n",
    "\n",
    "# Make this simple and remove any character that is not in range of English letters\n",
    "# There are emoji and punctuation that we cant reasonably use. just clear it all out\n",
    "dfTweets['text'] = dfTweets['text'].replace(r'[^A-Za-z]', ' ', regex=True)\n",
    "dfTweets['text']"
   ]
  },
  {
   "cell_type": "code",
   "execution_count": 25,
   "metadata": {
    "tags": []
   },
   "outputs": [
    {
     "data": {
      "text/plain": [
       "0       Our Deeds are the Reason of this  earthquake M...\n",
       "1                  Forest fire near La Ronge Sask  Canada\n",
       "2       All residents asked to  shelter in place  are ...\n",
       "3              people receive  wildfires evacuation or...\n",
       "4       Just got sent this photo from Ruby  Alaska as ...\n",
       "                              ...                        \n",
       "6957    a siren just went off and it wasn t the Forney...\n",
       "6958    Officials say a quarantine is in place at an A...\n",
       "6959     WorldNews Fallen powerlines on G link tram  U...\n",
       "6960    on the flip side I m at Walmart and there is a...\n",
       "6961    Suicide bomber kills    in Saudi security site...\n",
       "Name: text, Length: 6962, dtype: object"
      ]
     },
     "execution_count": 25,
     "metadata": {},
     "output_type": "execute_result"
    }
   ],
   "source": [
    "# Drop Duplicates\n",
    "# There are a lot of records that have duplicate text\n",
    "# I am dropping the duplicates so they dont lead to overtraining issues\n",
    "dfTweets.drop_duplicates(subset=['text'], inplace=True)\n",
    "dfTweets.reset_index(inplace=True)\n",
    "dfTweets['text']"
   ]
  },
  {
   "cell_type": "markdown",
   "metadata": {},
   "source": [
    "### Exploratory Data Analysis\n",
    "* There are a lot of unique words so we will limit what we will illustrate\n",
    "* We explore the data as we extract features\n",
    "* Additional Visualizations are included after feature extraction"
   ]
  },
  {
   "cell_type": "code",
   "execution_count": 26,
   "metadata": {},
   "outputs": [
    {
     "data": {
      "image/png": "[encoded data removed]",
      "text/plain": [
       "<Figure size 432x288 with 1 Axes>"
      ]
     },
     "metadata": {
      "needs_background": "light"
     },
     "output_type": "display_data"
    }
   ],
   "source": [
    "sns.histplot(data=dfTweets, x=\"target\",bins=2).set(title='Training Label␣Count');"
   ]
  },
  {
   "cell_type": "markdown",
   "metadata": {},
   "source": [
    "### Feature Extraction"
   ]
  },
  {
   "cell_type": "code",
   "execution_count": 27,
   "metadata": {
    "tags": []
   },
   "outputs": [
    {
     "data": {
      "text/plain": [
       "array(['aa', 'aaaa', 'aaaaaaallll', ..., 'zurich', 'zxathetis', 'zzzz'],\n",
       "      dtype=object)"
      ]
     },
     "execution_count": 27,
     "metadata": {},
     "output_type": "execute_result"
    }
   ],
   "source": [
    "# Feature Extraction\n",
    "# We will use TD-IDF\n",
    "\n",
    "# https://www.kaggle.com/code/amar09/nltk-feature-extraction-and-sentiment-analysis/notebook\n",
    "stopwords_set = set(stopwords.words(\"english\"))\n",
    "vectorizer = TfidfVectorizer(stop_words=stopwords_set)\n",
    "trans = vectorizer.fit_transform(dfTweets['text'])\n",
    "vectorizer.get_feature_names_out()\n",
    "\n",
    "# Some of these are clearly the same word but I am not going to word stem it. \n"
   ]
  },
  {
   "cell_type": "code",
   "execution_count": 28,
   "metadata": {
    "tags": []
   },
   "outputs": [
    {
     "data": {
      "text/plain": [
       "(6962, 16050)"
      ]
     },
     "execution_count": 28,
     "metadata": {},
     "output_type": "execute_result"
    }
   ],
   "source": [
    "trans.shape"
   ]
  },
  {
   "cell_type": "code",
   "execution_count": 29,
   "metadata": {
    "tags": []
   },
   "outputs": [],
   "source": [
    "dfSparse = pd.DataFrame(pd.DataFrame.sparse.from_spmatrix(trans))"
   ]
  },
  {
   "cell_type": "code",
   "execution_count": 30,
   "metadata": {},
   "outputs": [
    {
     "data": {
      "text/plain": [
       "'\\nfeature_array = np.array(vectorizer.get_feature_names())\\ntfidf_sorting = np.argsort(trans.toarray()).flatten()[::-1]\\nn = 5\\ntop_n = feature_array[tfidf_sorting][:n]\\n'"
      ]
     },
     "execution_count": 30,
     "metadata": {},
     "output_type": "execute_result"
    }
   ],
   "source": [
    "# Look at top n words \n",
    "# Could not run this due to memory constraints\n",
    "# The plan was to get the top features(words) then create visualizations showing proportion of those words \n",
    "#     for each label\n",
    "### Unfortunately, the code gave error that it couldn't allocate the memory required\n",
    "\"\"\"\n",
    "feature_array = np.array(vectorizer.get_feature_names())\n",
    "tfidf_sorting = np.argsort(trans.toarray()).flatten()[::-1]\n",
    "n = 5\n",
    "top_n = feature_array[tfidf_sorting][:n]\n",
    "\"\"\"\n",
    "\n"
   ]
  },
  {
   "cell_type": "markdown",
   "metadata": {},
   "source": [
    "### Train the models"
   ]
  },
  {
   "cell_type": "markdown",
   "metadata": {},
   "source": [
    "#### Model 1\n",
    "* We originally created a RNN for the first model\n",
    "* It was taking way to long to train\n",
    "* When we attempted a basic back propagation neural network, we saw that it had good results out of the box "
   ]
  },
  {
   "cell_type": "code",
   "execution_count": 31,
   "metadata": {
    "tags": []
   },
   "outputs": [],
   "source": [
    "x_train,  x_test, y_train, y_test = train_test_split(dfSparse,dfTweets['target'],test_size = 0.2)\n"
   ]
  },
  {
   "cell_type": "code",
   "execution_count": 32,
   "metadata": {},
   "outputs": [],
   "source": [
    "shape = x_test.shape[1]"
   ]
  },
  {
   "cell_type": "code",
   "execution_count": 33,
   "metadata": {
    "tags": []
   },
   "outputs": [
    {
     "name": "stderr",
     "output_type": "stream",
     "text": [
      "2022-05-31 18:31:39.972789: I tensorflow/core/common_runtime/process_util.cc:146] Creating new thread pool with default inter op setting: 2. Tune using inter_op_parallelism_threads for best performance.\n"
     ]
    }
   ],
   "source": [
    "model1 = models.Sequential()\n",
    "model1.add(layers.Dense(32, activation=\"relu\"))\n",
    "model1.add(layers.Dense(1, activation=\"sigmoid\")) \n",
    "model1.compile(optimizer='adam',\n",
    "               loss=\"binary_crossentropy\",\n",
    "               metrics=['accuracy'])"
   ]
  },
  {
   "cell_type": "code",
   "execution_count": 34,
   "metadata": {},
   "outputs": [
    {
     "name": "stdout",
     "output_type": "stream",
     "text": [
      "Model: \"sequential\"\n",
      "_________________________________________________________________\n",
      "Layer (type)                 Output Shape              Param #   \n",
      "=================================================================\n",
      "dense (Dense)                (None, 32)                513632    \n",
      "_________________________________________________________________\n",
      "dense_1 (Dense)              (None, 1)                 33        \n",
      "=================================================================\n",
      "Total params: 513,665\n",
      "Trainable params: 513,665\n",
      "Non-trainable params: 0\n",
      "_________________________________________________________________\n"
     ]
    }
   ],
   "source": [
    "model1.build(input_shape=(None,shape))\n",
    "model1.summary()"
   ]
  },
  {
   "cell_type": "code",
   "execution_count": 37,
   "metadata": {
    "tags": []
   },
   "outputs": [
    {
     "name": "stdout",
     "output_type": "stream",
     "text": [
      "Epoch 1/20\n",
      "175/175 [==============================] - 1s 8ms/step - loss: 0.0470 - accuracy: 0.9896 - val_loss: 0.5661 - val_accuracy: 0.7645\n",
      "Epoch 2/20\n",
      "175/175 [==============================] - 1s 4ms/step - loss: 0.0384 - accuracy: 0.9914 - val_loss: 0.5846 - val_accuracy: 0.7717\n",
      "Epoch 3/20\n",
      "175/175 [==============================] - 1s 4ms/step - loss: 0.0324 - accuracy: 0.9930 - val_loss: 0.6107 - val_accuracy: 0.7609\n",
      "Epoch 00003: early stopping\n"
     ]
    },
    {
     "data": {
      "text/plain": [
       "<keras.callbacks.History at 0x7febc47f15d0>"
      ]
     },
     "execution_count": 37,
     "metadata": {},
     "output_type": "execute_result"
    }
   ],
   "source": [
    "batch_size = 32\n",
    "es = EarlyStopping(monitor='val_loss', mode='auto', patience=2, verbose=1)\n",
    "model1.fit(\n",
    "    x_train, y_train, validation_data=(x_test, y_test), \n",
    "    batch_size=batch_size, epochs=20,\n",
    "    callbacks=[es]\n",
    ")\n",
    "# Got memory error and had to change memory of VM to run this"
   ]
  },
  {
   "cell_type": "code",
   "execution_count": 38,
   "metadata": {},
   "outputs": [],
   "source": [
    "# Test It\n",
    "\n",
    "# Make this stuff into a function\n",
    "# Remove URLs\n",
    "dfTweetsTest['text'] = dfTweetsTest['text'].replace(r'http\\S+', '', regex=True)\n",
    "# Make this simple and remove any character that is not in range of English letters\n",
    "dfTweetsTest['text'] = dfTweetsTest['text'].replace(r'[^A-Za-z]', ' ', regex=True)\n",
    "trans_test = vectorizer.transform(dfTweetsTest['text'])\n"
   ]
  },
  {
   "cell_type": "code",
   "execution_count": 39,
   "metadata": {},
   "outputs": [],
   "source": [
    "dfSparseTest = pd.DataFrame(pd.DataFrame.sparse.from_spmatrix(trans_test))"
   ]
  },
  {
   "cell_type": "code",
   "execution_count": 40,
   "metadata": {},
   "outputs": [],
   "source": [
    "y_pred = model1.predict(dfSparseTest)"
   ]
  },
  {
   "cell_type": "code",
   "execution_count": 41,
   "metadata": {},
   "outputs": [
    {
     "data": {
      "text/plain": [
       "(3263, 1)"
      ]
     },
     "execution_count": 41,
     "metadata": {},
     "output_type": "execute_result"
    }
   ],
   "source": [
    "y_pred.shape"
   ]
  },
  {
   "cell_type": "code",
   "execution_count": 42,
   "metadata": {},
   "outputs": [],
   "source": [
    "index_reset = dfTweetsTest['id'].reset_index()"
   ]
  },
  {
   "cell_type": "code",
   "execution_count": 43,
   "metadata": {},
   "outputs": [],
   "source": [
    "index_reset['target'] = y_pred.round().astype(int)"
   ]
  },
  {
   "cell_type": "code",
   "execution_count": 44,
   "metadata": {},
   "outputs": [],
   "source": [
    "index_reset = index_reset.drop('index',axis=1)"
   ]
  },
  {
   "cell_type": "code",
   "execution_count": 45,
   "metadata": {},
   "outputs": [],
   "source": [
    "index_reset.to_csv(\"test_data.csv\",index=False)"
   ]
  },
  {
   "cell_type": "markdown",
   "metadata": {},
   "source": [
    "#### Model 2\n",
    "* There are a lot of features and things are sparse\n",
    "* We want to see if PCA will work to improve performance"
   ]
  },
  {
   "cell_type": "code",
   "execution_count": 72,
   "metadata": {},
   "outputs": [],
   "source": [
    "# Start with dfSparse and PCA it\n",
    "dfScaled = StandardScaler().fit_transform(dfSparse.sparse.to_dense())"
   ]
  },
  {
   "cell_type": "code",
   "execution_count": 73,
   "metadata": {},
   "outputs": [],
   "source": [
    "pca = PCA(n_components=0.95)"
   ]
  },
  {
   "cell_type": "code",
   "execution_count": 74,
   "metadata": {},
   "outputs": [],
   "source": [
    "pricipalComponents = pca.fit_transform(dfScaled)"
   ]
  },
  {
   "cell_type": "code",
   "execution_count": 75,
   "metadata": {},
   "outputs": [],
   "source": [
    "dfPCA = pd.DataFrame(data = pricipalComponents)"
   ]
  },
  {
   "cell_type": "code",
   "execution_count": 76,
   "metadata": {},
   "outputs": [
    {
     "data": {
      "text/html": [
       "<div>\n",
       "<style scoped>\n",
       "    .dataframe tbody tr th:only-of-type {\n",
       "        vertical-align: middle;\n",
       "    }\n",
       "\n",
       "    .dataframe tbody tr th {\n",
       "        vertical-align: top;\n",
       "    }\n",
       "\n",
       "    .dataframe thead th {\n",
       "        text-align: right;\n",
       "    }\n",
       "</style>\n",
       "<table border=\"1\" class=\"dataframe\">\n",
       "  <thead>\n",
       "    <tr style=\"text-align: right;\">\n",
       "      <th></th>\n",
       "      <th>0</th>\n",
       "      <th>1</th>\n",
       "      <th>2</th>\n",
       "      <th>3</th>\n",
       "      <th>4</th>\n",
       "      <th>5</th>\n",
       "      <th>6</th>\n",
       "      <th>7</th>\n",
       "      <th>8</th>\n",
       "      <th>9</th>\n",
       "      <th>...</th>\n",
       "      <th>5074</th>\n",
       "      <th>5075</th>\n",
       "      <th>5076</th>\n",
       "      <th>5077</th>\n",
       "      <th>5078</th>\n",
       "      <th>5079</th>\n",
       "      <th>5080</th>\n",
       "      <th>5081</th>\n",
       "      <th>5082</th>\n",
       "      <th>5083</th>\n",
       "    </tr>\n",
       "  </thead>\n",
       "  <tbody>\n",
       "    <tr>\n",
       "      <th>0</th>\n",
       "      <td>-0.078239</td>\n",
       "      <td>-0.059097</td>\n",
       "      <td>-0.088612</td>\n",
       "      <td>-0.064248</td>\n",
       "      <td>-0.077703</td>\n",
       "      <td>-0.071834</td>\n",
       "      <td>-0.091831</td>\n",
       "      <td>-0.105413</td>\n",
       "      <td>-0.030995</td>\n",
       "      <td>0.209931</td>\n",
       "      <td>...</td>\n",
       "      <td>3.573027</td>\n",
       "      <td>3.527792</td>\n",
       "      <td>-2.674477</td>\n",
       "      <td>-1.939103</td>\n",
       "      <td>-0.154365</td>\n",
       "      <td>-4.237834</td>\n",
       "      <td>5.724807</td>\n",
       "      <td>-2.733402</td>\n",
       "      <td>0.637556</td>\n",
       "      <td>4.372344</td>\n",
       "    </tr>\n",
       "    <tr>\n",
       "      <th>1</th>\n",
       "      <td>-0.087677</td>\n",
       "      <td>-0.097656</td>\n",
       "      <td>-0.107262</td>\n",
       "      <td>-0.053224</td>\n",
       "      <td>-0.068927</td>\n",
       "      <td>-0.064815</td>\n",
       "      <td>-0.108207</td>\n",
       "      <td>-0.094312</td>\n",
       "      <td>0.011191</td>\n",
       "      <td>-0.082191</td>\n",
       "      <td>...</td>\n",
       "      <td>0.122445</td>\n",
       "      <td>0.217479</td>\n",
       "      <td>-0.397394</td>\n",
       "      <td>0.016972</td>\n",
       "      <td>-0.301586</td>\n",
       "      <td>0.213998</td>\n",
       "      <td>-0.019760</td>\n",
       "      <td>-0.088871</td>\n",
       "      <td>-0.143952</td>\n",
       "      <td>-0.031781</td>\n",
       "    </tr>\n",
       "    <tr>\n",
       "      <th>2</th>\n",
       "      <td>-0.097218</td>\n",
       "      <td>-0.117339</td>\n",
       "      <td>-0.110340</td>\n",
       "      <td>-0.077047</td>\n",
       "      <td>-0.075919</td>\n",
       "      <td>-0.083193</td>\n",
       "      <td>-0.141215</td>\n",
       "      <td>-0.127405</td>\n",
       "      <td>-0.050976</td>\n",
       "      <td>-0.023662</td>\n",
       "      <td>...</td>\n",
       "      <td>1.950131</td>\n",
       "      <td>1.558722</td>\n",
       "      <td>-1.188495</td>\n",
       "      <td>-1.192894</td>\n",
       "      <td>-0.664467</td>\n",
       "      <td>-1.828405</td>\n",
       "      <td>0.771438</td>\n",
       "      <td>-0.950145</td>\n",
       "      <td>0.831304</td>\n",
       "      <td>-0.841750</td>\n",
       "    </tr>\n",
       "    <tr>\n",
       "      <th>3</th>\n",
       "      <td>-0.074988</td>\n",
       "      <td>-0.110750</td>\n",
       "      <td>-0.113140</td>\n",
       "      <td>-0.042910</td>\n",
       "      <td>-0.070116</td>\n",
       "      <td>-0.000215</td>\n",
       "      <td>-0.091503</td>\n",
       "      <td>-0.106347</td>\n",
       "      <td>-0.023609</td>\n",
       "      <td>-0.094358</td>\n",
       "      <td>...</td>\n",
       "      <td>-0.266367</td>\n",
       "      <td>-0.261358</td>\n",
       "      <td>-0.327892</td>\n",
       "      <td>-0.746833</td>\n",
       "      <td>-0.015095</td>\n",
       "      <td>0.221197</td>\n",
       "      <td>-0.493712</td>\n",
       "      <td>-0.260344</td>\n",
       "      <td>0.641124</td>\n",
       "      <td>-0.353278</td>\n",
       "    </tr>\n",
       "    <tr>\n",
       "      <th>4</th>\n",
       "      <td>-0.085266</td>\n",
       "      <td>-0.114545</td>\n",
       "      <td>-0.115498</td>\n",
       "      <td>-0.060910</td>\n",
       "      <td>-0.077873</td>\n",
       "      <td>-0.023808</td>\n",
       "      <td>-0.089835</td>\n",
       "      <td>-0.075962</td>\n",
       "      <td>-0.038396</td>\n",
       "      <td>-0.088510</td>\n",
       "      <td>...</td>\n",
       "      <td>0.197062</td>\n",
       "      <td>0.391773</td>\n",
       "      <td>-0.187452</td>\n",
       "      <td>0.578017</td>\n",
       "      <td>0.528905</td>\n",
       "      <td>0.216513</td>\n",
       "      <td>-0.362800</td>\n",
       "      <td>-0.195314</td>\n",
       "      <td>0.026133</td>\n",
       "      <td>-0.544563</td>\n",
       "    </tr>\n",
       "    <tr>\n",
       "      <th>...</th>\n",
       "      <td>...</td>\n",
       "      <td>...</td>\n",
       "      <td>...</td>\n",
       "      <td>...</td>\n",
       "      <td>...</td>\n",
       "      <td>...</td>\n",
       "      <td>...</td>\n",
       "      <td>...</td>\n",
       "      <td>...</td>\n",
       "      <td>...</td>\n",
       "      <td>...</td>\n",
       "      <td>...</td>\n",
       "      <td>...</td>\n",
       "      <td>...</td>\n",
       "      <td>...</td>\n",
       "      <td>...</td>\n",
       "      <td>...</td>\n",
       "      <td>...</td>\n",
       "      <td>...</td>\n",
       "      <td>...</td>\n",
       "      <td>...</td>\n",
       "    </tr>\n",
       "    <tr>\n",
       "      <th>6957</th>\n",
       "      <td>-0.079908</td>\n",
       "      <td>-0.119963</td>\n",
       "      <td>-0.103486</td>\n",
       "      <td>-0.056947</td>\n",
       "      <td>-0.063933</td>\n",
       "      <td>-0.072289</td>\n",
       "      <td>0.008172</td>\n",
       "      <td>0.893871</td>\n",
       "      <td>-0.522908</td>\n",
       "      <td>0.069312</td>\n",
       "      <td>...</td>\n",
       "      <td>-1.239300</td>\n",
       "      <td>0.099060</td>\n",
       "      <td>-3.516804</td>\n",
       "      <td>-3.841305</td>\n",
       "      <td>-4.814662</td>\n",
       "      <td>3.082075</td>\n",
       "      <td>-3.621484</td>\n",
       "      <td>-3.364453</td>\n",
       "      <td>-3.086844</td>\n",
       "      <td>1.070920</td>\n",
       "    </tr>\n",
       "    <tr>\n",
       "      <th>6958</th>\n",
       "      <td>-0.116479</td>\n",
       "      <td>-0.129516</td>\n",
       "      <td>-0.146840</td>\n",
       "      <td>-0.091773</td>\n",
       "      <td>-0.080399</td>\n",
       "      <td>-0.114345</td>\n",
       "      <td>-0.122161</td>\n",
       "      <td>-0.133403</td>\n",
       "      <td>-0.038602</td>\n",
       "      <td>-0.027939</td>\n",
       "      <td>...</td>\n",
       "      <td>0.106050</td>\n",
       "      <td>0.056327</td>\n",
       "      <td>0.210149</td>\n",
       "      <td>0.011611</td>\n",
       "      <td>0.117060</td>\n",
       "      <td>0.161468</td>\n",
       "      <td>-0.046727</td>\n",
       "      <td>-0.080902</td>\n",
       "      <td>0.143639</td>\n",
       "      <td>0.171874</td>\n",
       "    </tr>\n",
       "    <tr>\n",
       "      <th>6959</th>\n",
       "      <td>-0.120347</td>\n",
       "      <td>-0.149664</td>\n",
       "      <td>-0.157010</td>\n",
       "      <td>-0.095254</td>\n",
       "      <td>-0.101343</td>\n",
       "      <td>0.014169</td>\n",
       "      <td>-0.130838</td>\n",
       "      <td>-0.109889</td>\n",
       "      <td>-0.009812</td>\n",
       "      <td>-0.025372</td>\n",
       "      <td>...</td>\n",
       "      <td>-0.025185</td>\n",
       "      <td>-0.234559</td>\n",
       "      <td>-0.575541</td>\n",
       "      <td>-0.175855</td>\n",
       "      <td>-0.020906</td>\n",
       "      <td>0.110054</td>\n",
       "      <td>-0.416302</td>\n",
       "      <td>0.015159</td>\n",
       "      <td>-0.716243</td>\n",
       "      <td>-0.012042</td>\n",
       "    </tr>\n",
       "    <tr>\n",
       "      <th>6960</th>\n",
       "      <td>-0.046046</td>\n",
       "      <td>-0.106149</td>\n",
       "      <td>0.008219</td>\n",
       "      <td>-0.061119</td>\n",
       "      <td>-0.078789</td>\n",
       "      <td>-0.051406</td>\n",
       "      <td>0.830471</td>\n",
       "      <td>-0.054644</td>\n",
       "      <td>-0.000386</td>\n",
       "      <td>-0.067867</td>\n",
       "      <td>...</td>\n",
       "      <td>-0.383817</td>\n",
       "      <td>-2.121286</td>\n",
       "      <td>0.427881</td>\n",
       "      <td>1.077513</td>\n",
       "      <td>-0.598742</td>\n",
       "      <td>-1.132784</td>\n",
       "      <td>0.579136</td>\n",
       "      <td>-1.010110</td>\n",
       "      <td>0.758766</td>\n",
       "      <td>0.114784</td>\n",
       "    </tr>\n",
       "    <tr>\n",
       "      <th>6961</th>\n",
       "      <td>-0.126634</td>\n",
       "      <td>-0.065979</td>\n",
       "      <td>-0.098844</td>\n",
       "      <td>-0.053080</td>\n",
       "      <td>-0.114897</td>\n",
       "      <td>-0.050133</td>\n",
       "      <td>-0.171578</td>\n",
       "      <td>-0.199000</td>\n",
       "      <td>-0.051251</td>\n",
       "      <td>0.171169</td>\n",
       "      <td>...</td>\n",
       "      <td>0.398769</td>\n",
       "      <td>-0.063645</td>\n",
       "      <td>-0.056966</td>\n",
       "      <td>0.248449</td>\n",
       "      <td>0.054900</td>\n",
       "      <td>-0.338356</td>\n",
       "      <td>0.200416</td>\n",
       "      <td>-0.036741</td>\n",
       "      <td>-0.202559</td>\n",
       "      <td>-0.527217</td>\n",
       "    </tr>\n",
       "  </tbody>\n",
       "</table>\n",
       "<p>6962 rows × 5084 columns</p>\n",
       "</div>"
      ],
      "text/plain": [
       "          0         1         2         3         4         5         6     \\\n",
       "0    -0.078239 -0.059097 -0.088612 -0.064248 -0.077703 -0.071834 -0.091831   \n",
       "1    -0.087677 -0.097656 -0.107262 -0.053224 -0.068927 -0.064815 -0.108207   \n",
       "2    -0.097218 -0.117339 -0.110340 -0.077047 -0.075919 -0.083193 -0.141215   \n",
       "3    -0.074988 -0.110750 -0.113140 -0.042910 -0.070116 -0.000215 -0.091503   \n",
       "4    -0.085266 -0.114545 -0.115498 -0.060910 -0.077873 -0.023808 -0.089835   \n",
       "...        ...       ...       ...       ...       ...       ...       ...   \n",
       "6957 -0.079908 -0.119963 -0.103486 -0.056947 -0.063933 -0.072289  0.008172   \n",
       "6958 -0.116479 -0.129516 -0.146840 -0.091773 -0.080399 -0.114345 -0.122161   \n",
       "6959 -0.120347 -0.149664 -0.157010 -0.095254 -0.101343  0.014169 -0.130838   \n",
       "6960 -0.046046 -0.106149  0.008219 -0.061119 -0.078789 -0.051406  0.830471   \n",
       "6961 -0.126634 -0.065979 -0.098844 -0.053080 -0.114897 -0.050133 -0.171578   \n",
       "\n",
       "          7         8         9     ...      5074      5075      5076  \\\n",
       "0    -0.105413 -0.030995  0.209931  ...  3.573027  3.527792 -2.674477   \n",
       "1    -0.094312  0.011191 -0.082191  ...  0.122445  0.217479 -0.397394   \n",
       "2    -0.127405 -0.050976 -0.023662  ...  1.950131  1.558722 -1.188495   \n",
       "3    -0.106347 -0.023609 -0.094358  ... -0.266367 -0.261358 -0.327892   \n",
       "4    -0.075962 -0.038396 -0.088510  ...  0.197062  0.391773 -0.187452   \n",
       "...        ...       ...       ...  ...       ...       ...       ...   \n",
       "6957  0.893871 -0.522908  0.069312  ... -1.239300  0.099060 -3.516804   \n",
       "6958 -0.133403 -0.038602 -0.027939  ...  0.106050  0.056327  0.210149   \n",
       "6959 -0.109889 -0.009812 -0.025372  ... -0.025185 -0.234559 -0.575541   \n",
       "6960 -0.054644 -0.000386 -0.067867  ... -0.383817 -2.121286  0.427881   \n",
       "6961 -0.199000 -0.051251  0.171169  ...  0.398769 -0.063645 -0.056966   \n",
       "\n",
       "          5077      5078      5079      5080      5081      5082      5083  \n",
       "0    -1.939103 -0.154365 -4.237834  5.724807 -2.733402  0.637556  4.372344  \n",
       "1     0.016972 -0.301586  0.213998 -0.019760 -0.088871 -0.143952 -0.031781  \n",
       "2    -1.192894 -0.664467 -1.828405  0.771438 -0.950145  0.831304 -0.841750  \n",
       "3    -0.746833 -0.015095  0.221197 -0.493712 -0.260344  0.641124 -0.353278  \n",
       "4     0.578017  0.528905  0.216513 -0.362800 -0.195314  0.026133 -0.544563  \n",
       "...        ...       ...       ...       ...       ...       ...       ...  \n",
       "6957 -3.841305 -4.814662  3.082075 -3.621484 -3.364453 -3.086844  1.070920  \n",
       "6958  0.011611  0.117060  0.161468 -0.046727 -0.080902  0.143639  0.171874  \n",
       "6959 -0.175855 -0.020906  0.110054 -0.416302  0.015159 -0.716243 -0.012042  \n",
       "6960  1.077513 -0.598742 -1.132784  0.579136 -1.010110  0.758766  0.114784  \n",
       "6961  0.248449  0.054900 -0.338356  0.200416 -0.036741 -0.202559 -0.527217  \n",
       "\n",
       "[6962 rows x 5084 columns]"
      ]
     },
     "execution_count": 76,
     "metadata": {},
     "output_type": "execute_result"
    }
   ],
   "source": [
    "dfPCA\n",
    "# PCA did not reduce the number of feature by as much as I was hoping with an explained variance setting of 95%\n",
    "# We got reduce to about a third but I was hoping for more"
   ]
  },
  {
   "cell_type": "code",
   "execution_count": 77,
   "metadata": {},
   "outputs": [],
   "source": [
    "x_train,  x_test, y_train, y_test = train_test_split(dfPCA,dfTweets['target'],test_size = 0.2)"
   ]
  },
  {
   "cell_type": "code",
   "execution_count": 78,
   "metadata": {},
   "outputs": [],
   "source": [
    "model2 = models.Sequential()\n",
    "model2.add(layers.Dense(32, activation=\"relu\"))\n",
    "model2.add(layers.Dense(1, activation=\"sigmoid\")) \n",
    "model2.compile(optimizer='adam',\n",
    "               loss=\"binary_crossentropy\",\n",
    "               metrics=['accuracy'])\n"
   ]
  },
  {
   "cell_type": "code",
   "execution_count": 79,
   "metadata": {},
   "outputs": [
    {
     "name": "stdout",
     "output_type": "stream",
     "text": [
      "Model: \"sequential_3\"\n",
      "_________________________________________________________________\n",
      "Layer (type)                 Output Shape              Param #   \n",
      "=================================================================\n",
      "dense_6 (Dense)              (None, 32)                162720    \n",
      "_________________________________________________________________\n",
      "dense_7 (Dense)              (None, 1)                 33        \n",
      "=================================================================\n",
      "Total params: 162,753\n",
      "Trainable params: 162,753\n",
      "Non-trainable params: 0\n",
      "_________________________________________________________________\n"
     ]
    }
   ],
   "source": [
    "shape = x_test.shape[1]\n",
    "model2.build(input_shape=(None,shape))\n",
    "model2.summary()"
   ]
  },
  {
   "cell_type": "code",
   "execution_count": 80,
   "metadata": {},
   "outputs": [
    {
     "name": "stdout",
     "output_type": "stream",
     "text": [
      "Epoch 1/20\n",
      "175/175 [==============================] - 1s 4ms/step - loss: 0.8981 - accuracy: 0.6190 - val_loss: 0.8113 - val_accuracy: 0.6834\n",
      "Epoch 2/20\n",
      "175/175 [==============================] - 1s 3ms/step - loss: 0.1083 - accuracy: 0.9646 - val_loss: 0.8298 - val_accuracy: 0.6834\n",
      "Epoch 3/20\n",
      "175/175 [==============================] - 1s 3ms/step - loss: 0.0749 - accuracy: 0.9776 - val_loss: 0.8563 - val_accuracy: 0.6906\n",
      "Epoch 00003: early stopping\n"
     ]
    },
    {
     "data": {
      "text/plain": [
       "<keras.callbacks.History at 0x7feaf5b319d0>"
      ]
     },
     "execution_count": 80,
     "metadata": {},
     "output_type": "execute_result"
    }
   ],
   "source": [
    "batch_size = 32\n",
    "es = EarlyStopping(monitor='val_loss', mode='auto', patience=2, verbose=1)\n",
    "model2.fit(\n",
    "    x_train, y_train, validation_data=(x_test, y_test), \n",
    "    batch_size=batch_size, epochs=20,\n",
    "    callbacks=[es]\n",
    ")"
   ]
  },
  {
   "cell_type": "code",
   "execution_count": null,
   "metadata": {},
   "outputs": [],
   "source": [
    "# The validation accuracy was not good. It seems that this overtrains too quickly"
   ]
  },
  {
   "cell_type": "markdown",
   "metadata": {},
   "source": [
    "#### Model 3\n",
    "* The previous model showed poor results because it quickly overtrained\n",
    "* We will add a dropout layer"
   ]
  },
  {
   "cell_type": "code",
   "execution_count": 81,
   "metadata": {},
   "outputs": [
    {
     "name": "stdout",
     "output_type": "stream",
     "text": [
      "Model: \"sequential_4\"\n",
      "_________________________________________________________________\n",
      "Layer (type)                 Output Shape              Param #   \n",
      "=================================================================\n",
      "dense_8 (Dense)              (None, 32)                162720    \n",
      "_________________________________________________________________\n",
      "dropout (Dropout)            (None, 32)                0         \n",
      "_________________________________________________________________\n",
      "dense_9 (Dense)              (None, 1)                 33        \n",
      "=================================================================\n",
      "Total params: 162,753\n",
      "Trainable params: 162,753\n",
      "Non-trainable params: 0\n",
      "_________________________________________________________________\n"
     ]
    }
   ],
   "source": [
    "model3 = models.Sequential()\n",
    "model3.add(layers.Dense(32, activation=\"relu\"))\n",
    "model3.add(layers.Dropout(0.2, (None, 32)))\n",
    "model3.add(layers.Dense(1, activation=\"sigmoid\")) \n",
    "model3.compile(optimizer='adam',\n",
    "               loss=\"binary_crossentropy\",\n",
    "               metrics=['accuracy'])\n",
    "model3.build(input_shape=(None, shape))\n",
    "model3.summary()"
   ]
  },
  {
   "cell_type": "code",
   "execution_count": 82,
   "metadata": {},
   "outputs": [
    {
     "name": "stdout",
     "output_type": "stream",
     "text": [
      "Epoch 1/20\n",
      "175/175 [==============================] - 1s 4ms/step - loss: 0.9796 - accuracy: 0.6466 - val_loss: 0.7686 - val_accuracy: 0.6906\n",
      "Epoch 2/20\n",
      "175/175 [==============================] - 1s 3ms/step - loss: 0.1612 - accuracy: 0.9461 - val_loss: 0.7867 - val_accuracy: 0.7164\n",
      "Epoch 3/20\n",
      "175/175 [==============================] - 1s 3ms/step - loss: 0.1020 - accuracy: 0.9671 - val_loss: 0.8230 - val_accuracy: 0.7164\n",
      "Epoch 00003: early stopping\n"
     ]
    },
    {
     "data": {
      "text/plain": [
       "<keras.callbacks.History at 0x7feb95dd66d0>"
      ]
     },
     "execution_count": 82,
     "metadata": {},
     "output_type": "execute_result"
    }
   ],
   "source": [
    "model3.fit(\n",
    "    x_train, y_train, validation_data=(x_test, y_test), \n",
    "    batch_size=batch_size, epochs=20,\n",
    "    callbacks=[es]\n",
    ")"
   ]
  },
  {
   "cell_type": "code",
   "execution_count": 89,
   "metadata": {},
   "outputs": [],
   "source": [
    "# This isnt bad, but lets try to add a LSTM layer"
   ]
  },
  {
   "cell_type": "markdown",
   "metadata": {},
   "source": [
    "#### Model 4\n",
    "* Adding a LSTM layer to model 3"
   ]
  },
  {
   "cell_type": "code",
   "execution_count": 116,
   "metadata": {},
   "outputs": [
    {
     "data": {
      "text/plain": [
       "(5569, 5084)"
      ]
     },
     "execution_count": 116,
     "metadata": {},
     "output_type": "execute_result"
    }
   ],
   "source": [
    "x_train.shape"
   ]
  },
  {
   "cell_type": "code",
   "execution_count": 117,
   "metadata": {},
   "outputs": [
    {
     "data": {
      "text/plain": [
       "(1393, 5084)"
      ]
     },
     "execution_count": 117,
     "metadata": {},
     "output_type": "execute_result"
    }
   ],
   "source": [
    "x_test.shape"
   ]
  },
  {
   "cell_type": "code",
   "execution_count": 126,
   "metadata": {},
   "outputs": [],
   "source": [
    "# Need to reshape before I can use LSTM\n",
    "n_features = x_train.shape[1]\n",
    "train_rows = x_train.shape[0]\n",
    "test_rows = x_test.shape[0]\n",
    "x_train_array = x_train.to_numpy().reshape(train_rows, n_features, 1)\n",
    "x_test_array = x_test.to_numpy().reshape(test_rows, n_features, 1)"
   ]
  },
  {
   "cell_type": "code",
   "execution_count": 137,
   "metadata": {},
   "outputs": [],
   "source": [
    "model4 = models.Sequential()\n",
    "model4.add(layers.Input(shape=(n_features,1)))\n",
    "model4.add(layers.Bidirectional(layers.LSTM(units=32)))\n",
    "model4.add(layers.Dense(32, activation=\"relu\"))\n",
    "model4.add(layers.Dropout(0.2, (None, 32)))\n",
    "model4.add(layers.Dense(1, activation=\"sigmoid\")) \n",
    "model4.compile(optimizer='adam',\n",
    "               loss=\"binary_crossentropy\",\n",
    "               metrics=['accuracy'])\n"
   ]
  },
  {
   "cell_type": "code",
   "execution_count": 138,
   "metadata": {},
   "outputs": [
    {
     "name": "stdout",
     "output_type": "stream",
     "text": [
      "Epoch 1/20\n",
      "175/175 [==============================] - 1224s 7s/step - loss: 0.6803 - accuracy: 0.5795 - val_loss: 0.6757 - val_accuracy: 0.5908\n",
      "Epoch 2/20\n",
      "175/175 [==============================] - 1227s 7s/step - loss: 0.6771 - accuracy: 0.5850 - val_loss: 0.6749 - val_accuracy: 0.6009\n",
      "Epoch 3/20\n",
      "175/175 [==============================] - 1191s 7s/step - loss: 0.6795 - accuracy: 0.5820 - val_loss: 0.6748 - val_accuracy: 0.5994\n",
      "Epoch 4/20\n",
      "175/175 [==============================] - 1150s 7s/step - loss: 0.6808 - accuracy: 0.5827 - val_loss: 0.6778 - val_accuracy: 0.6016\n",
      "Epoch 5/20\n",
      "175/175 [==============================] - 1131s 6s/step - loss: 0.6793 - accuracy: 0.5845 - val_loss: 0.6737 - val_accuracy: 0.6001\n",
      "Epoch 6/20\n",
      "175/175 [==============================] - 1148s 7s/step - loss: 0.6786 - accuracy: 0.5861 - val_loss: 0.6748 - val_accuracy: 0.6016\n",
      "Epoch 7/20\n",
      "175/175 [==============================] - 1202s 7s/step - loss: 0.6777 - accuracy: 0.5861 - val_loss: 0.6736 - val_accuracy: 0.6016\n",
      "Epoch 8/20\n",
      "175/175 [==============================] - 1203s 7s/step - loss: 0.6765 - accuracy: 0.5863 - val_loss: 0.6705 - val_accuracy: 0.6001\n",
      "Epoch 9/20\n",
      "175/175 [==============================] - 1229s 7s/step - loss: 0.6780 - accuracy: 0.5861 - val_loss: 0.6746 - val_accuracy: 0.6030\n",
      "Epoch 10/20\n",
      "175/175 [==============================] - 1178s 7s/step - loss: 0.6784 - accuracy: 0.5881 - val_loss: 0.6761 - val_accuracy: 0.6016\n",
      "Epoch 00010: early stopping\n"
     ]
    },
    {
     "data": {
      "text/plain": [
       "<keras.callbacks.History at 0x7feab86cf690>"
      ]
     },
     "execution_count": 138,
     "metadata": {},
     "output_type": "execute_result"
    }
   ],
   "source": [
    "model4.fit(\n",
    "    [x_train_array], y_train, validation_data=([x_test_array],y_test),\n",
    "    batch_size=batch_size, epochs=20,\n",
    "    callbacks=[es]\n",
    ")"
   ]
  },
  {
   "cell_type": "code",
   "execution_count": null,
   "metadata": {},
   "outputs": [],
   "source": [
    "# Not good "
   ]
  },
  {
   "cell_type": "markdown",
   "metadata": {},
   "source": [
    "#### Model 5\n",
    "* Go back to original data and see if we can train it using bidirectional LSTM without crashing everything"
   ]
  },
  {
   "cell_type": "code",
   "execution_count": 140,
   "metadata": {},
   "outputs": [],
   "source": [
    "# Need to split again since we are going back to pre-PCA data\n",
    "x_train,  x_test, y_train, y_test = train_test_split(dfSparse,dfTweets['target'],test_size = 0.2)\n",
    "# Reshape to fit the model\n",
    "n_features = x_train.shape[1]\n",
    "train_rows = x_train.shape[0]\n",
    "test_rows = x_test.shape[0]\n",
    "x_train_array = x_train.to_numpy().reshape(train_rows, n_features, 1)\n",
    "x_test_array = x_test.to_numpy().reshape(test_rows, n_features, 1)"
   ]
  },
  {
   "cell_type": "code",
   "execution_count": 141,
   "metadata": {},
   "outputs": [],
   "source": [
    "model5 = models.Sequential()\n",
    "model5.add(layers.Input(shape=(n_features,1)))\n",
    "model5.add(layers.Bidirectional(layers.LSTM(units=32)))\n",
    "model5.add(layers.Dense(32, activation=\"relu\"))\n",
    "model5.add(layers.Dropout(0.2, (None, 32)))\n",
    "model5.add(layers.Dense(1, activation=\"sigmoid\")) \n",
    "model5.compile(optimizer='adam',\n",
    "               loss=\"binary_crossentropy\",\n",
    "               metrics=['accuracy'])"
   ]
  },
  {
   "cell_type": "code",
   "execution_count": 143,
   "metadata": {},
   "outputs": [
    {
     "name": "stdout",
     "output_type": "stream",
     "text": [
      "Epoch 1/40\n",
      "175/175 [==============================] - 4624s 26s/step - loss: 0.6797 - accuracy: 0.5886 - val_loss: 0.6780 - val_accuracy: 0.5894\n",
      "Epoch 2/40\n",
      "175/175 [==============================] - 4503s 26s/step - loss: 0.6788 - accuracy: 0.5886 - val_loss: 0.6771 - val_accuracy: 0.5894\n",
      "Epoch 3/40\n",
      "175/175 [==============================] - 4531s 26s/step - loss: 0.6788 - accuracy: 0.5886 - val_loss: 0.6771 - val_accuracy: 0.5894\n",
      "Epoch 4/40\n",
      "175/175 [==============================] - 4485s 26s/step - loss: 0.6779 - accuracy: 0.5886 - val_loss: 0.6780 - val_accuracy: 0.5894\n",
      "Epoch 5/40\n",
      "175/175 [==============================] - 4517s 26s/step - loss: 0.6786 - accuracy: 0.5886 - val_loss: 0.6771 - val_accuracy: 0.5894\n",
      "Epoch 6/40\n",
      "175/175 [==============================] - 4514s 26s/step - loss: 0.6782 - accuracy: 0.5886 - val_loss: 0.6771 - val_accuracy: 0.5894\n",
      "Epoch 7/40\n",
      "175/175 [==============================] - 4495s 26s/step - loss: 0.6781 - accuracy: 0.5886 - val_loss: 0.6771 - val_accuracy: 0.5894\n",
      "Epoch 00007: early stopping\n"
     ]
    },
    {
     "data": {
      "text/plain": [
       "<keras.callbacks.History at 0x7feabec3c4d0>"
      ]
     },
     "execution_count": 143,
     "metadata": {},
     "output_type": "execute_result"
    }
   ],
   "source": [
    "es = EarlyStopping(monitor='val_loss', mode='auto', patience=4, verbose=1)\n",
    "# Giving this one more patience to see if it breaks out of rut on early train\n",
    "# Hopefully it doesnt need all 40 epochs\n",
    "# ETA for epoch 1 started at 1:20, so I will check on this tomorrow\n",
    "model5.fit(\n",
    "    [x_train_array], y_train, validation_data=([x_test_array],y_test),\n",
    "    batch_size=batch_size, epochs=40,\n",
    "    callbacks=[es]\n",
    ")\n"
   ]
  },
  {
   "cell_type": "code",
   "execution_count": null,
   "metadata": {},
   "outputs": [],
   "source": []
  },
  {
   "cell_type": "markdown",
   "metadata": {},
   "source": [
    "### Analysis of Results"
   ]
  },
  {
   "cell_type": "markdown",
   "metadata": {},
   "source": [
    "* The first successful model we tested was a shallow backpropagation network. \n",
    "* It had validation results around 70%\n",
    "* Our next attempt with a more robust network overtrained\n",
    "* It had good accuracy with training data but had poor validation\n",
    "* We added a dropout layer and tried PCA to fix some issues\n",
    "* That helped some but the simple model was still competative with this more complex model\n",
    "* Considering the difference in training time, the extra complexity was not worth it"
   ]
  },
  {
   "cell_type": "markdown",
   "metadata": {},
   "source": [
    "| Model | Training Accuracy | Validation Accuracy |\n",
    "|-|-|-|\n",
    "| 1 | 0.9930 | 0.7609 | \n",
    "| 2 | 0.9776 | 0.6906 | \n",
    "| 3 | 0.9672 | 0.7164 |\n",
    "| 4 | 0.5881 | 0.6016 |\n",
    "| 5 | 0.5886 | 0.5894 |\n",
    "\n",
    "* Model 4 may have continued to improve but it met the early stop threshold after 10 epochs\n",
    "* It was improving very slowly\n"
   ]
  },
  {
   "cell_type": "markdown",
   "metadata": {},
   "source": [
    "### References\n",
    "* https://towardsdatascience.com/tf-idf-explained-and-python-sklearn-implementation-b020c5e83275\n",
    "* https://towardsdatascience.com/how-to-turn-text-into-features-478b57632e99"
   ]
  },
  {
   "cell_type": "code",
   "execution_count": null,
   "metadata": {},
   "outputs": [],
   "source": []
  }
 ],
 "metadata": {
  "kernelspec": {
   "display_name": "Python 3 (ipykernel)",
   "language": "python",
   "name": "python3"
  },
  "language_info": {
   "codemirror_mode": {
    "name": "ipython",
    "version": 3
   },
   "file_extension": ".py",
   "mimetype": "text/x-python",
   "name": "python",
   "nbconvert_exporter": "python",
   "pygments_lexer": "ipython3",
   "version": "3.7.12"
  }
 },
 "nbformat": 4,
 "nbformat_minor": 4
}
